{
  "nbformat": 4,
  "nbformat_minor": 0,
  "metadata": {
    "colab": {
      "name": "Assignment2_DS_LU.ipynb",
      "provenance": []
    },
    "kernelspec": {
      "name": "python3",
      "display_name": "Python 3"
    }
  },
  "cells": [
    {
      "cell_type": "markdown",
      "metadata": {
        "id": "wWj5bzShnbRq"
      },
      "source": [
        "# **- DAY 2 - Data Science Essentials 101 [B1]**\n"
      ]
    },
    {
      "cell_type": "markdown",
      "metadata": {
        "id": "myscCNlHLPfX"
      },
      "source": [
        "## ***QUESTION 1***\n",
        "---\n",
        "\n",
        "Create an empty list. Accept 10 numbers from the user and append to it the list if it is an even number.\n",
        "\n",
        "## ***SOLUTION 1***\n",
        "---"
      ]
    },
    {
      "cell_type": "code",
      "metadata": {
        "id": "9rvIsS3qnPDl",
        "outputId": "3501d566-7e8a-4d56-ce9b-3c5c9e8c7782",
        "colab": {
          "base_uri": "https://localhost:8080/"
        }
      },
      "source": [
        "list1 = []\n",
        "\n",
        "for each in range(10):\n",
        "  num = int( input(  ) )\n",
        "  if num%2 ==0:\n",
        "    list1.append( num )\n",
        "  \n",
        "print( list1 )\n"
      ],
      "execution_count": null,
      "outputs": [
        {
          "output_type": "stream",
          "text": [
            "12\n",
            "24\n",
            "7\n",
            "5\n",
            "149\n",
            "2\n",
            "1100\n",
            "14149\n",
            "777\n",
            "101\n",
            "[12, 24, 2, 1100]\n"
          ],
          "name": "stdout"
        }
      ]
    },
    {
      "cell_type": "markdown",
      "metadata": {
        "id": "gtwW-6-yLXsS"
      },
      "source": [
        "## ***QUESTION 2***\n",
        "---\n",
        "\n",
        "Create a notebook on LIST COMPREHENSION. This exercise is to put you in a Self learning mode.\n",
        "\n",
        "## ***SOLUTION 2***\n",
        "---"
      ]
    },
    {
      "cell_type": "markdown",
      "metadata": {
        "id": "48kceh0pZIJW"
      },
      "source": [
        "*The **List comprehension** is an elegant way to define and create a list in python in one line only.*\n",
        "\n",
        "*The syntax of list comprehension is easier to grasp.*\n",
        "\n",
        "*A list comprehension generally consist of these parts :*\n",
        ">- Output expression,\n",
        ">- Input sequence,\n",
        ">- A variable representing a member of the input sequence, and\n",
        ">- An optional predicate part."
      ]
    },
    {
      "cell_type": "code",
      "metadata": {
        "id": "FUVTPpGxNK48",
        "outputId": "a8cd71f7-9f89-47f4-877a-4f3f2ec373b9",
        "colab": {
          "base_uri": "https://localhost:8080/"
        }
      },
      "source": [
        "# EXAMPLE 1\n",
        "\n",
        "list1 = [ ( i, i*i ) for i in range(6) ]\n",
        "print( list1 )\n"
      ],
      "execution_count": null,
      "outputs": [
        {
          "output_type": "stream",
          "text": [
            "[(0, 0), (1, 1), (2, 4), (3, 9), (4, 16), (5, 25)]\n"
          ],
          "name": "stdout"
        }
      ]
    },
    {
      "cell_type": "code",
      "metadata": {
        "id": "jh2cNz8CajjL",
        "outputId": "e11f90bc-3950-4a8e-8ac5-ce4e9fedbe2d",
        "colab": {
          "base_uri": "https://localhost:8080/"
        }
      },
      "source": [
        "# EXAMPLE 2\n",
        "\n",
        "list1 = [ num for num in range(10) if num%2 ==0 ]\n",
        "  \n",
        "print( list1 )"
      ],
      "execution_count": null,
      "outputs": [
        {
          "output_type": "stream",
          "text": [
            "[0, 2, 4, 6, 8]\n"
          ],
          "name": "stdout"
        }
      ]
    },
    {
      "cell_type": "markdown",
      "metadata": {
        "id": "Df2wYoy0NcFo"
      },
      "source": [
        "## ***QUESTION 3***\n",
        "---\n",
        "\n",
        "Given a number **n**, you have to write a program that generates a dictionary **d** which\n",
        "contains ( i , i * i ) , where **i** is from 1 to n (both included).\n",
        "Then you have to just print this dictionary d.\n",
        "\n",
        "*Example 1:*\n",
        "\n",
        "Input: \n",
        ">4\n",
        "\n",
        "Output:\n",
        ">{ 1 : 1 , 2 : 4 , 3 : 9 , 4 : 16 }\n",
        "\n",
        "*Example 2:*\n",
        "\n",
        "Input: \n",
        "> 8\n",
        "\n",
        "Output:\n",
        ">{ 1: 1 , 2: 4 , 3: 9 , 4: 16 , 5: 25 , 6: 36 , 7: 49 , 8: 64 }\n",
        "\n",
        "Input Format:\n",
        "Take the number n in a single line.\n",
        "\n",
        "Output Format:\n",
        "Print the dictionary d in a single line.\n",
        "\n",
        "## ***SOLUTION 3***\n",
        "---"
      ]
    },
    {
      "cell_type": "code",
      "metadata": {
        "id": "jJocTBwWOHJP",
        "outputId": "295990c0-44d0-4924-f9c3-364795563be3",
        "colab": {
          "base_uri": "https://localhost:8080/"
        }
      },
      "source": [
        "# Sample as in Example 1\n",
        "n = int( input() ) \n",
        "\n",
        "d = {}\n",
        "\n",
        "for i in range(1, n+1):\n",
        "  d.update( { i : i*i } )\n",
        "  \n",
        "print( d )"
      ],
      "execution_count": null,
      "outputs": [
        {
          "output_type": "stream",
          "text": [
            "4\n",
            "{1: 1, 2: 4, 3: 9, 4: 16}\n"
          ],
          "name": "stdout"
        }
      ]
    },
    {
      "cell_type": "code",
      "metadata": {
        "id": "RgdWZp3CRD56",
        "outputId": "d7265c94-9ff8-458b-d2b7-c04e5b3e4510",
        "colab": {
          "base_uri": "https://localhost:8080/"
        }
      },
      "source": [
        "# Sample as in Example 2\n",
        "n = int( input() ) \n",
        "\n",
        "d = {}\n",
        "\n",
        "for i in range(1, n+1):\n",
        "  d.update( { i : i*i } )\n",
        "  \n",
        "print( d )"
      ],
      "execution_count": null,
      "outputs": [
        {
          "output_type": "stream",
          "text": [
            "8\n",
            "{1: 1, 2: 4, 3: 9, 4: 16, 5: 25, 6: 36, 7: 49, 8: 64}\n"
          ],
          "name": "stdout"
        }
      ]
    },
    {
      "cell_type": "markdown",
      "metadata": {
        "id": "QxhIjKGDSUXt"
      },
      "source": [
        "## ***QUESTION 4***\n",
        "---\n",
        "\n",
        "There is a **robot** which wants to go the charging point to charge itself.\n",
        "\n",
        "The robot moves in a **2-D plane** from the original point (0,0). The robot can move toward **UP**, **DOWN**, **LEFT** and **RIGHT** with given steps.\n",
        "\n",
        "The trace of robot movement is shown as the following:\n",
        ">- UP 5\n",
        ">- DOWN 3\n",
        ">- LEFT 3\n",
        ">- RIGHT 2\n",
        "\n",
        "Then, the output of the program should be:\n",
        ">**2**\n",
        "\n",
        "The numbers after the direction are steps.\n",
        "\n",
        "Write a program to compute the distance between the current position after a sequence of movement and original point. \n",
        "\n",
        "If the distance is a float, then\n",
        "just print the nearest integer (use **round()** function for that and then convert it into an integer).\n",
        "\n",
        "Input Format:\n",
        ">The first line of the input contains a number n which implies the number of directions to be given.\n",
        "The next n lines contain the direction and the step separated by a space.\n",
        "\n",
        "Output Format:\n",
        ">Print the distance from the original position to the current position.\n",
        "\n",
        "*Example:*\n",
        "\n",
        "Input:\n",
        ">4\n",
        ">\n",
        ">UP 5\n",
        ">\n",
        ">DOWN 3\n",
        ">\n",
        ">LEFT 3\n",
        ">\n",
        ">RIGHT 2\n",
        "\n",
        "Output:\n",
        ">2\n",
        "\n",
        "## ***SOLUTION 4***\n",
        "---"
      ]
    },
    {
      "cell_type": "code",
      "metadata": {
        "id": "cw8F35IcW2Nk",
        "outputId": "3ee84c36-c666-4a69-9b06-409ec127743b",
        "colab": {
          "base_uri": "https://localhost:8080/"
        }
      },
      "source": [
        "n = int( input() )\n",
        "\n",
        "X = 0\n",
        "Y = 0\n",
        "\n",
        "for each in range(n):\n",
        "  direction, steps = input().split(' ')\n",
        "  steps = int( steps )\n",
        "  if direction.upper() == 'UP':\n",
        "    Y += steps\n",
        "  elif direction.upper() == 'DOWN':\n",
        "    Y -= steps\n",
        "  elif direction.upper() == 'LEFT':\n",
        "    X -= steps\n",
        "  elif direction.upper() == 'RIGHT':\n",
        "    X += steps\n",
        "\n",
        "distance = round( ( (X**2) + (Y**2) ) ** 0.5 )  \n",
        "print( distance )"
      ],
      "execution_count": null,
      "outputs": [
        {
          "output_type": "stream",
          "text": [
            "4\n",
            "UP 5\n",
            "DOWN 3\n",
            "LEFT 3\n",
            "RIGHT 2\n",
            "2\n"
          ],
          "name": "stdout"
        }
      ]
    },
    {
      "cell_type": "markdown",
      "metadata": {
        "id": "qNeoBXnkXASU"
      },
      "source": [
        "## ***ROUGH WORK - 4***"
      ]
    },
    {
      "cell_type": "code",
      "metadata": {
        "id": "Oz_WItGaTaD2",
        "outputId": "2ef201c3-31d9-46d7-f8e0-bf61549eba43",
        "colab": {
          "base_uri": "https://localhost:8080/"
        }
      },
      "source": [
        "n = int( input() )\n",
        "\n",
        "for each in range(n):\n",
        "  direction, steps = input().split(' ')\n",
        "  steps = int(steps)\n",
        "  print(direction,'<-->',steps,'<-->',type(steps) )"
      ],
      "execution_count": null,
      "outputs": [
        {
          "output_type": "stream",
          "text": [
            "2\n",
            "up 24\n",
            "up <--> 24 <--> <class 'int'>\n",
            "down 12\n",
            "down <--> 12 <--> <class 'int'>\n"
          ],
          "name": "stdout"
        }
      ]
    }
  ]
}