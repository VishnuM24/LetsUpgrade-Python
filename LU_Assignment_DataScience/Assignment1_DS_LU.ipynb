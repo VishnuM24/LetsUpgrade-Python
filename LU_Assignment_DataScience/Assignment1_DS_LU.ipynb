{
  "nbformat": 4,
  "nbformat_minor": 0,
  "metadata": {
    "colab": {
      "name": "Assignment1_DS_LU.ipynb",
      "provenance": []
    },
    "kernelspec": {
      "name": "python3",
      "display_name": "Python 3"
    }
  },
  "cells": [
    {
      "cell_type": "markdown",
      "metadata": {
        "id": "wRuagI8VPaGH"
      },
      "source": [
        "# **- DAY 1 -**"
      ]
    },
    {
      "cell_type": "markdown",
      "metadata": {
        "id": "MQFVlLBIPP8a"
      },
      "source": [
        "## ***QUESTION 1 :***\n",
        "Given the following jumbled word, OBANWRI guess the correct English word.\n",
        "\n",
        "A. RANIBOW\n",
        "\n",
        "B. RAINBOW\n",
        "\n",
        "C. BOWRANI\n",
        "\n",
        "D. ROBWANI"
      ]
    },
    {
      "cell_type": "code",
      "metadata": {
        "id": "abi5kMDqOuFB"
      },
      "source": [
        ""
      ],
      "execution_count": null,
      "outputs": []
    },
    {
      "cell_type": "markdown",
      "metadata": {
        "id": "mCWcKRMJPhIi"
      },
      "source": [
        "---\n",
        "## ***QUESTION 2 :***\n",
        "\n",
        "Write a program which prints “**LETS UPGRADE**”. (Please note that you have to\n",
        "print in ALL CAPS as given)"
      ]
    },
    {
      "cell_type": "code",
      "metadata": {
        "id": "ikU4-v5dPovg",
        "outputId": "411f1b61-59f8-437d-b1b4-1c941b5ddc63",
        "colab": {
          "base_uri": "https://localhost:8080/"
        }
      },
      "source": [
        "print(\"LETS UPGRADE\")"
      ],
      "execution_count": 1,
      "outputs": [
        {
          "output_type": "stream",
          "text": [
            "LETS UPGRADE\n"
          ],
          "name": "stdout"
        }
      ]
    },
    {
      "cell_type": "markdown",
      "metadata": {
        "id": "ULerst2dP4AX"
      },
      "source": [
        "---\n",
        "## ***QUESTION 3 :***\n",
        "\n",
        "Write a program that takes cost price and selling price as input and displays whether the transaction is a Profit or a Loss or Neither.\n",
        "\n",
        "**INPUT FORMAT**\n",
        ">The first line contains the cost price.\n",
        ">\n",
        ">The second line contains the selling price.\n",
        "\n",
        "**OUTPUT FORMAT**\n",
        "\n",
        "Print \"Profit\" if the transaction is a profit or \"Loss\" if it is a loss. If it is neither\n",
        "profit nor loss, print \"Neither\"."
      ]
    },
    {
      "cell_type": "code",
      "metadata": {
        "id": "hYr_TpRRPpJP",
        "outputId": "f1628f18-09ca-4c1e-8bc5-77a8e0d5da82",
        "colab": {
          "base_uri": "https://localhost:8080/"
        }
      },
      "source": [
        "cost = int( input() )\n",
        "sell = int ( input() )\n",
        "\n",
        "if ( sell - cost >0 ):\n",
        "  print( \"Profit\" )\n",
        "elif ( sell-cost <0 ):\n",
        "  print( \"Loss\" )\n",
        "else:\n",
        "  print( \"Neither\" )\n",
        "\n",
        "# TEST CASE 1"
      ],
      "execution_count": 3,
      "outputs": [
        {
          "output_type": "stream",
          "text": [
            "20\n",
            "30\n",
            "Profit\n"
          ],
          "name": "stdout"
        }
      ]
    },
    {
      "cell_type": "code",
      "metadata": {
        "id": "Ypg8DkixR-W7",
        "outputId": "14aba2e4-50b1-46f2-b2a0-2d470e59469f",
        "colab": {
          "base_uri": "https://localhost:8080/"
        }
      },
      "source": [
        "# TEST CASE 2"
      ],
      "execution_count": 4,
      "outputs": [
        {
          "output_type": "stream",
          "text": [
            "20\n",
            "10\n",
            "Loss\n"
          ],
          "name": "stdout"
        }
      ]
    },
    {
      "cell_type": "code",
      "metadata": {
        "id": "TG52lhXISGDM",
        "outputId": "87003a8a-e232-4105-98f7-4f61d90a08e2",
        "colab": {
          "base_uri": "https://localhost:8080/"
        }
      },
      "source": [
        "# TEST CASE 3"
      ],
      "execution_count": 5,
      "outputs": [
        {
          "output_type": "stream",
          "text": [
            "20\n",
            "20\n",
            "Neither\n"
          ],
          "name": "stdout"
        }
      ]
    },
    {
      "cell_type": "code",
      "metadata": {
        "id": "04mvoVj7SQ2u",
        "outputId": "fd095ba1-ec02-4faa-d294-2a3e5ee06348",
        "colab": {
          "base_uri": "https://localhost:8080/"
        }
      },
      "source": [
        "# TEST CASE 4"
      ],
      "execution_count": 6,
      "outputs": [
        {
          "output_type": "stream",
          "text": [
            "19\n",
            "19\n",
            "Neither\n"
          ],
          "name": "stdout"
        }
      ]
    },
    {
      "cell_type": "code",
      "metadata": {
        "id": "HBiyRNX8SUDe",
        "outputId": "f10d022e-cccc-4d5e-dbaf-cd20175cfefe",
        "colab": {
          "base_uri": "https://localhost:8080/"
        }
      },
      "source": [
        "# TEST CASE 5"
      ],
      "execution_count": 7,
      "outputs": [
        {
          "output_type": "stream",
          "text": [
            "23\n",
            "7\n",
            "Loss\n"
          ],
          "name": "stdout"
        }
      ]
    },
    {
      "cell_type": "code",
      "metadata": {
        "id": "BkYqujp9SbZP",
        "outputId": "333acac6-1c8c-4e5f-fdee-fbdde430d261",
        "colab": {
          "base_uri": "https://localhost:8080/"
        }
      },
      "source": [
        "# TEST CASE 6"
      ],
      "execution_count": 8,
      "outputs": [
        {
          "output_type": "stream",
          "text": [
            "19\n",
            "95\n",
            "Profit\n"
          ],
          "name": "stdout"
        }
      ]
    },
    {
      "cell_type": "markdown",
      "metadata": {
        "id": "kcEdi1QhSqrv"
      },
      "source": [
        "---\n",
        "## ***QUESTION 4 :***\n",
        "\n",
        "Write a program that takes an amount in Euros as input. You need to find its equivalent in\n",
        "Rupees and display it. Assume 1 Euro equals Rs. 80.\n"
      ]
    },
    {
      "cell_type": "code",
      "metadata": {
        "id": "1WR4JD39S59h",
        "outputId": "23706d5d-fc52-4057-a1cd-b382588bc158",
        "colab": {
          "base_uri": "https://localhost:8080/"
        }
      },
      "source": [
        "euro = int( input( ) )\n",
        "\n",
        "print( euro*80 )\n",
        "\n",
        "# TEST CASE 1"
      ],
      "execution_count": 9,
      "outputs": [
        {
          "output_type": "stream",
          "text": [
            "20\n",
            "1600\n"
          ],
          "name": "stdout"
        }
      ]
    },
    {
      "cell_type": "code",
      "metadata": {
        "id": "qfe3fmGuTfjv",
        "outputId": "d7d22564-be8d-4fed-ad42-3b4df5d04092",
        "colab": {
          "base_uri": "https://localhost:8080/"
        }
      },
      "source": [
        "# TEST CASE 2"
      ],
      "execution_count": 10,
      "outputs": [
        {
          "output_type": "stream",
          "text": [
            "50\n",
            "4000\n"
          ],
          "name": "stdout"
        }
      ]
    },
    {
      "cell_type": "code",
      "metadata": {
        "id": "6WZ7VRyxTgK1",
        "outputId": "907a82e7-05a0-4363-85e3-fcaf6fde0f1c",
        "colab": {
          "base_uri": "https://localhost:8080/"
        }
      },
      "source": [
        "# TEST CASE 3"
      ],
      "execution_count": 11,
      "outputs": [
        {
          "output_type": "stream",
          "text": [
            "72\n",
            "5760\n"
          ],
          "name": "stdout"
        }
      ]
    },
    {
      "cell_type": "code",
      "metadata": {
        "id": "a5Ovs0xVTomy",
        "outputId": "63d68dbe-aedd-4d2d-c550-0bf677f7f301",
        "colab": {
          "base_uri": "https://localhost:8080/"
        }
      },
      "source": [
        "# TEST CASE 4"
      ],
      "execution_count": 12,
      "outputs": [
        {
          "output_type": "stream",
          "text": [
            "7\n",
            "560\n"
          ],
          "name": "stdout"
        }
      ]
    },
    {
      "cell_type": "code",
      "metadata": {
        "id": "N-Sey1TqTpGw",
        "outputId": "f27303e7-2d13-4381-9b0f-cf7056b75a5c",
        "colab": {
          "base_uri": "https://localhost:8080/"
        }
      },
      "source": [
        "# TEST CASE 5"
      ],
      "execution_count": 13,
      "outputs": [
        {
          "output_type": "stream",
          "text": [
            "35\n",
            "2800\n"
          ],
          "name": "stdout"
        }
      ]
    },
    {
      "cell_type": "code",
      "metadata": {
        "id": "Z-Tg8-c3TsRR",
        "outputId": "450f397e-cc66-4d80-e89c-f4e4b766a45d",
        "colab": {
          "base_uri": "https://localhost:8080/"
        }
      },
      "source": [
        "# TEST CASE 6"
      ],
      "execution_count": 14,
      "outputs": [
        {
          "output_type": "stream",
          "text": [
            "23\n",
            "1840\n"
          ],
          "name": "stdout"
        }
      ]
    },
    {
      "cell_type": "code",
      "metadata": {
        "id": "9cNK2qV0T0D1",
        "outputId": "90e9e813-537c-4fa7-9fa2-26cc034350ba",
        "colab": {
          "base_uri": "https://localhost:8080/"
        }
      },
      "source": [
        "# TEST CASE 7"
      ],
      "execution_count": 15,
      "outputs": [
        {
          "output_type": "stream",
          "text": [
            "95\n",
            "7600\n"
          ],
          "name": "stdout"
        }
      ]
    },
    {
      "cell_type": "code",
      "metadata": {
        "id": "ht73eXMMT4_0",
        "outputId": "cf4800b7-5b3b-4cf6-a272-cbe6b51fe7af",
        "colab": {
          "base_uri": "https://localhost:8080/"
        }
      },
      "source": [
        "# TEST CASE 8"
      ],
      "execution_count": 16,
      "outputs": [
        {
          "output_type": "stream",
          "text": [
            "18\n",
            "1440\n"
          ],
          "name": "stdout"
        }
      ]
    }
  ]
}