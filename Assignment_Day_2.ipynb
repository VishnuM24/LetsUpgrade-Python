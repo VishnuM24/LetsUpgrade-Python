{
  "nbformat": 4,
  "nbformat_minor": 0,
  "metadata": {
    "colab": {
      "name": "Assignment - Day 2.ipynb",
      "provenance": [],
      "toc_visible": true,
      "authorship_tag": "ABX9TyNHB6Fu98hp1vIgz4hQMyBv",
      "include_colab_link": true
    },
    "kernelspec": {
      "name": "python3",
      "display_name": "Python 3"
    }
  },
  "cells": [
    {
      "cell_type": "markdown",
      "metadata": {
        "id": "view-in-github",
        "colab_type": "text"
      },
      "source": [
        "<a href=\"https://colab.research.google.com/github/VishnuM24/LetsUpgrade-Python/blob/master/Assignment_Day_2.ipynb\" target=\"_parent\"><img src=\"https://colab.research.google.com/assets/colab-badge.svg\" alt=\"Open In Colab\"/></a>"
      ]
    },
    {
      "cell_type": "markdown",
      "metadata": {
        "id": "39kBxo1k2WMd",
        "colab_type": "text"
      },
      "source": [
        "# - DAY 2 -"
      ]
    },
    {
      "cell_type": "markdown",
      "metadata": {
        "id": "5pNUpIepycKw",
        "colab_type": "text"
      },
      "source": [
        "##**QUESTION 1 :**\n",
        "\n",
        "List & its default methods"
      ]
    },
    {
      "cell_type": "code",
      "metadata": {
        "id": "LRGIzuUAyOix",
        "colab_type": "code",
        "colab": {}
      },
      "source": [
        "vowels = [ 'a', 'e' ]"
      ],
      "execution_count": 40,
      "outputs": []
    },
    {
      "cell_type": "code",
      "metadata": {
        "id": "a-7-fzagjAP2",
        "colab_type": "code",
        "colab": {
          "base_uri": "https://localhost:8080/",
          "height": 0
        },
        "outputId": "77576e48-9f8f-41ae-e92a-104999cce855"
      },
      "source": [
        "# Method 1 - extend()\n",
        "vow2 = ['i', 'o', 'u']\n",
        "vowels.extend( vow2 )\n",
        "print( vowels )"
      ],
      "execution_count": 41,
      "outputs": [
        {
          "output_type": "stream",
          "text": [
            "['a', 'e', 'i', 'o', 'u']\n"
          ],
          "name": "stdout"
        }
      ]
    },
    {
      "cell_type": "code",
      "metadata": {
        "id": "5QhX76pL2z1C",
        "colab_type": "code",
        "colab": {
          "base_uri": "https://localhost:8080/",
          "height": 0
        },
        "outputId": "83b3e34e-0ae5-41b9-cd25-0d36dd41ab0d"
      },
      "source": [
        "# Method 2 - append()\n",
        "vowels.append( 'y' )\n",
        "print( vowels )"
      ],
      "execution_count": 42,
      "outputs": [
        {
          "output_type": "stream",
          "text": [
            "['a', 'e', 'i', 'o', 'u', 'y']\n"
          ],
          "name": "stdout"
        }
      ]
    },
    {
      "cell_type": "code",
      "metadata": {
        "id": "DiWu957thjru",
        "colab_type": "code",
        "colab": {
          "base_uri": "https://localhost:8080/",
          "height": 0
        },
        "outputId": "d10318c1-7ee4-4463-ca5c-fc13a796c819"
      },
      "source": [
        "# Method 3 - insert()\n",
        "vowels.insert( 2, 'x' )\n",
        "print(vowels)"
      ],
      "execution_count": 43,
      "outputs": [
        {
          "output_type": "stream",
          "text": [
            "['a', 'e', 'x', 'i', 'o', 'u', 'y']\n"
          ],
          "name": "stdout"
        }
      ]
    },
    {
      "cell_type": "code",
      "metadata": {
        "id": "os33TVivj_JL",
        "colab_type": "code",
        "colab": {
          "base_uri": "https://localhost:8080/",
          "height": 0
        },
        "outputId": "e596daa9-7961-47a6-b0cc-478bf08aa838"
      },
      "source": [
        "# Method 4 - pop()\n",
        "vowels.pop(-1)\n",
        "print(vowels)"
      ],
      "execution_count": 44,
      "outputs": [
        {
          "output_type": "stream",
          "text": [
            "['a', 'e', 'x', 'i', 'o', 'u']\n"
          ],
          "name": "stdout"
        }
      ]
    },
    {
      "cell_type": "code",
      "metadata": {
        "id": "9NboF2XpklMJ",
        "colab_type": "code",
        "colab": {
          "base_uri": "https://localhost:8080/",
          "height": 0
        },
        "outputId": "d55e6683-1d1a-4066-dee7-8350f21fdeb4"
      },
      "source": [
        "# Method 5 - remove()\n",
        "vowels.remove('x')\n",
        "print(vowels)"
      ],
      "execution_count": 45,
      "outputs": [
        {
          "output_type": "stream",
          "text": [
            "['a', 'e', 'i', 'o', 'u']\n"
          ],
          "name": "stdout"
        }
      ]
    },
    {
      "cell_type": "markdown",
      "metadata": {
        "id": "L7rX4-JYlDyd",
        "colab_type": "text"
      },
      "source": [
        "## **Question 2:**\n",
        "\n",
        "Dictionary & its default methods"
      ]
    },
    {
      "cell_type": "code",
      "metadata": {
        "id": "qama3kUolUcQ",
        "colab_type": "code",
        "colab": {}
      },
      "source": [
        "dailyFood = {\n",
        "    'breakfast' : 'dosa',\n",
        "    'lunch'     : 'rice',\n",
        "    'dinner'    : 'chapathi'\n",
        "}"
      ],
      "execution_count": 46,
      "outputs": []
    },
    {
      "cell_type": "code",
      "metadata": {
        "id": "nZDCascd0s3V",
        "colab_type": "code",
        "colab": {
          "base_uri": "https://localhost:8080/",
          "height": 0
        },
        "outputId": "52232e82-1ea8-4420-bbb8-ecddf25d3024"
      },
      "source": [
        "# Method 1 - keys()\n",
        "keys_list = dailyFood.keys()\n",
        "print( keys_list )"
      ],
      "execution_count": 47,
      "outputs": [
        {
          "output_type": "stream",
          "text": [
            "dict_keys(['breakfast', 'lunch', 'dinner'])\n"
          ],
          "name": "stdout"
        }
      ]
    },
    {
      "cell_type": "code",
      "metadata": {
        "id": "mtVTBVl41A-O",
        "colab_type": "code",
        "colab": {
          "base_uri": "https://localhost:8080/",
          "height": 0
        },
        "outputId": "8e57e0df-8ab5-4036-b8f0-3c37750c2b23"
      },
      "source": [
        "# Method 2 - items()\n",
        "dailyfood_list = dailyFood.items()\n",
        "print( dailyfood_list )"
      ],
      "execution_count": 48,
      "outputs": [
        {
          "output_type": "stream",
          "text": [
            "dict_items([('breakfast', 'dosa'), ('lunch', 'rice'), ('dinner', 'chapathi')])\n"
          ],
          "name": "stdout"
        }
      ]
    },
    {
      "cell_type": "code",
      "metadata": {
        "id": "emoHNaeSgTgz",
        "colab_type": "code",
        "colab": {
          "base_uri": "https://localhost:8080/",
          "height": 0
        },
        "outputId": "9ce84e25-2bb4-4112-e1a8-75878cdcecbe"
      },
      "source": [
        "# Method 3 - update()\n",
        "dailyFood.update( { 'evening_snack' : 'biscuits' } )\n",
        "print( dailyfood_list )"
      ],
      "execution_count": 49,
      "outputs": [
        {
          "output_type": "stream",
          "text": [
            "dict_items([('breakfast', 'dosa'), ('lunch', 'rice'), ('dinner', 'chapathi'), ('evening_snack', 'biscuits')])\n"
          ],
          "name": "stdout"
        }
      ]
    },
    {
      "cell_type": "code",
      "metadata": {
        "id": "wLI5n235g8ek",
        "colab_type": "code",
        "colab": {
          "base_uri": "https://localhost:8080/",
          "height": 0
        },
        "outputId": "aaf913fd-a3eb-4a97-e523-5a1af9c78261"
      },
      "source": [
        "# Method 4 - get()\n",
        "food_lunch = dailyFood.get('lunch')\n",
        "print( food_lunch )"
      ],
      "execution_count": 50,
      "outputs": [
        {
          "output_type": "stream",
          "text": [
            "rice\n"
          ],
          "name": "stdout"
        }
      ]
    },
    {
      "cell_type": "code",
      "metadata": {
        "id": "fjTxr2FyheNU",
        "colab_type": "code",
        "colab": {
          "base_uri": "https://localhost:8080/",
          "height": 0
        },
        "outputId": "34c48028-0faf-462b-db69-a54bf91f22bd"
      },
      "source": [
        "# Method 5 - pop()\n",
        "dailyFood.pop( 'evening_snack' )\n",
        "print( dailyFood )"
      ],
      "execution_count": 51,
      "outputs": [
        {
          "output_type": "stream",
          "text": [
            "{'breakfast': 'dosa', 'lunch': 'rice', 'dinner': 'chapathi'}\n"
          ],
          "name": "stdout"
        }
      ]
    },
    {
      "cell_type": "markdown",
      "metadata": {
        "id": "IYS_qM14iOLL",
        "colab_type": "text"
      },
      "source": [
        "## **Question 3:**\n",
        "\n",
        "Sets & its default methods"
      ]
    },
    {
      "cell_type": "code",
      "metadata": {
        "id": "W-28luu8iW0F",
        "colab_type": "code",
        "colab": {}
      },
      "source": [
        "language_set = { 'c', 'python', 'java' }"
      ],
      "execution_count": 52,
      "outputs": []
    },
    {
      "cell_type": "code",
      "metadata": {
        "id": "vR3Jp8I0n9V6",
        "colab_type": "code",
        "colab": {
          "base_uri": "https://localhost:8080/",
          "height": 35
        },
        "outputId": "6d1573bf-106b-4d0f-f96d-06cd2f3e4601"
      },
      "source": [
        "# Method 1 - add()\n",
        "language_set.add( 'PHP' )\n",
        "print( language_set )"
      ],
      "execution_count": 53,
      "outputs": [
        {
          "output_type": "stream",
          "text": [
            "{'python', 'PHP', 'c', 'java'}\n"
          ],
          "name": "stdout"
        }
      ]
    },
    {
      "cell_type": "code",
      "metadata": {
        "id": "W9O-10lLoiKH",
        "colab_type": "code",
        "colab": {
          "base_uri": "https://localhost:8080/",
          "height": 35
        },
        "outputId": "7f0d1c72-3de9-4921-bde2-3a86f5e4651c"
      },
      "source": [
        "# Method 2 - union()\n",
        "programming_set = language_set.union( { 'c#', 'cpp', 'Go', 'R' } )\n",
        "print( programming_set )"
      ],
      "execution_count": 54,
      "outputs": [
        {
          "output_type": "stream",
          "text": [
            "{'python', 'PHP', 'java', 'R', 'c#', 'c', 'cpp', 'Go'}\n"
          ],
          "name": "stdout"
        }
      ]
    },
    {
      "cell_type": "code",
      "metadata": {
        "id": "QX8Vuu2gqJMN",
        "colab_type": "code",
        "colab": {
          "base_uri": "https://localhost:8080/",
          "height": 35
        },
        "outputId": "2ea0c79b-ff25-47a2-86b5-717ed4fb3029"
      },
      "source": [
        "# Method 3 - discard()\n",
        "programming_set.discard( 'PHP' )\n",
        "print( programming_set )"
      ],
      "execution_count": 55,
      "outputs": [
        {
          "output_type": "stream",
          "text": [
            "{'python', 'java', 'R', 'c#', 'c', 'cpp', 'Go'}\n"
          ],
          "name": "stdout"
        }
      ]
    },
    {
      "cell_type": "code",
      "metadata": {
        "id": "w6FxHz1Pqrio",
        "colab_type": "code",
        "colab": {
          "base_uri": "https://localhost:8080/",
          "height": 35
        },
        "outputId": "11faabb0-781f-4007-8ca1-74e3392ce7d4"
      },
      "source": [
        "# Method 4 - issubset()\n",
        "under_programming = language_set.issubset( programming_set )\n",
        "print( under_programming )"
      ],
      "execution_count": 56,
      "outputs": [
        {
          "output_type": "stream",
          "text": [
            "False\n"
          ],
          "name": "stdout"
        }
      ]
    },
    {
      "cell_type": "code",
      "metadata": {
        "id": "r5iEPjekrDDw",
        "colab_type": "code",
        "colab": {
          "base_uri": "https://localhost:8080/",
          "height": 35
        },
        "outputId": "25302551-f13f-467f-cc8c-d355f5e772ac"
      },
      "source": [
        "# Method 5 - update()\n",
        "programming_set.update( { 'html', 'css', 'javascript' } )\n",
        "print( programming_set )"
      ],
      "execution_count": 57,
      "outputs": [
        {
          "output_type": "stream",
          "text": [
            "{'python', 'javascript', 'html', 'java', 'R', 'c#', 'css', 'c', 'cpp', 'Go'}\n"
          ],
          "name": "stdout"
        }
      ]
    },
    {
      "cell_type": "markdown",
      "metadata": {
        "id": "YRCQz5XblW_s",
        "colab_type": "text"
      },
      "source": [
        "## **Question 4:**\n",
        "\n",
        "Tuple & its default methods"
      ]
    },
    {
      "cell_type": "code",
      "metadata": {
        "id": "w-yuyWv4lbov",
        "colab_type": "code",
        "colab": {}
      },
      "source": [
        "oct_values = ( '000', '001' , '010' , '011' , '100', '101', '110', '111' )"
      ],
      "execution_count": 58,
      "outputs": []
    },
    {
      "cell_type": "code",
      "metadata": {
        "id": "037G2XGQmCkG",
        "colab_type": "code",
        "colab": {
          "base_uri": "https://localhost:8080/",
          "height": 0
        },
        "outputId": "74682e35-c635-48a2-b993-211f3ae2b6c7"
      },
      "source": [
        "# Method 1 - count()\n",
        "repeat_3 = oct_values.count( '011' )\n",
        "print( repeat_3 )"
      ],
      "execution_count": 59,
      "outputs": [
        {
          "output_type": "stream",
          "text": [
            "1\n"
          ],
          "name": "stdout"
        }
      ]
    },
    {
      "cell_type": "code",
      "metadata": {
        "id": "xjBq_SNcmiEO",
        "colab_type": "code",
        "colab": {
          "base_uri": "https://localhost:8080/",
          "height": 0
        },
        "outputId": "c4247f8f-5470-433c-8486-aec0e54b6946"
      },
      "source": [
        "# Method 2 - index()\n",
        "indx = oct_values.index( '101' )\n",
        "print( indx )"
      ],
      "execution_count": 60,
      "outputs": [
        {
          "output_type": "stream",
          "text": [
            "5\n"
          ],
          "name": "stdout"
        }
      ]
    },
    {
      "cell_type": "code",
      "metadata": {
        "id": "YeXYN1rknDTu",
        "colab_type": "code",
        "colab": {
          "base_uri": "https://localhost:8080/",
          "height": 0
        },
        "outputId": "c929f6d1-0155-4e90-9b1c-5730ea1f6efe"
      },
      "source": [
        "oct_values[6]"
      ],
      "execution_count": 61,
      "outputs": [
        {
          "output_type": "execute_result",
          "data": {
            "application/vnd.google.colaboratory.intrinsic+json": {
              "type": "string"
            },
            "text/plain": [
              "'110'"
            ]
          },
          "metadata": {
            "tags": []
          },
          "execution_count": 61
        }
      ]
    },
    {
      "cell_type": "markdown",
      "metadata": {
        "id": "1h4JgDxNs907",
        "colab_type": "text"
      },
      "source": [
        "## **Question 5:**\n",
        "\n",
        "Strings & its default methods"
      ]
    },
    {
      "cell_type": "code",
      "metadata": {
        "id": "9p586sJMtBHN",
        "colab_type": "code",
        "colab": {}
      },
      "source": [
        "intro_template = 'Hi This is <NAME> from <PLACE>'\n"
      ],
      "execution_count": 66,
      "outputs": []
    },
    {
      "cell_type": "code",
      "metadata": {
        "id": "oK2iHc3xuPtg",
        "colab_type": "code",
        "colab": {
          "base_uri": "https://localhost:8080/",
          "height": 35
        },
        "outputId": "82b447bb-e64d-4568-c397-efeff8926216"
      },
      "source": [
        "# Method 1 - replace()\n",
        "my_template = intro_template.replace( '<NAME>', 'Vishnu' )\n",
        "my_template = my_template.replace( '<PLACE>', 'Kerala' )\n",
        "\n",
        "print( my_template )"
      ],
      "execution_count": 67,
      "outputs": [
        {
          "output_type": "stream",
          "text": [
            "Hi This is Vishnu from Kerala\n"
          ],
          "name": "stdout"
        }
      ]
    },
    {
      "cell_type": "code",
      "metadata": {
        "id": "YZU0XGPGuoHt",
        "colab_type": "code",
        "colab": {
          "base_uri": "https://localhost:8080/",
          "height": 35
        },
        "outputId": "efcafc26-da6b-42f7-a93a-cf73c190975b"
      },
      "source": [
        "# Method 2 - split()\n",
        "words = my_template.split(' ')\n",
        "print( words )"
      ],
      "execution_count": 69,
      "outputs": [
        {
          "output_type": "stream",
          "text": [
            "['Hi', 'This', 'is', 'Vishnu', 'from', 'Kerala']\n"
          ],
          "name": "stdout"
        }
      ]
    },
    {
      "cell_type": "code",
      "metadata": {
        "id": "JyOMmurju2LG",
        "colab_type": "code",
        "colab": {
          "base_uri": "https://localhost:8080/",
          "height": 35
        },
        "outputId": "b2aad652-eda6-4d54-873e-a9a9977dc928"
      },
      "source": [
        "# Method 3 - find()\n",
        "x = my_template.find('Vishnu')\n",
        "print( 'My name starts at position',x )"
      ],
      "execution_count": 70,
      "outputs": [
        {
          "output_type": "stream",
          "text": [
            "My name starts at position 11\n"
          ],
          "name": "stdout"
        }
      ]
    },
    {
      "cell_type": "code",
      "metadata": {
        "id": "74vGEZBov3qn",
        "colab_type": "code",
        "colab": {
          "base_uri": "https://localhost:8080/",
          "height": 35
        },
        "outputId": "e4eee6c5-e82d-4c3d-c1be-cdccafc1a567"
      },
      "source": [
        "# Method 4 - upper()\n",
        "caps_template = my_template.upper()\n",
        "print( caps_template )"
      ],
      "execution_count": 72,
      "outputs": [
        {
          "output_type": "stream",
          "text": [
            "HI THIS IS VISHNU FROM KERALA\n"
          ],
          "name": "stdout"
        }
      ]
    },
    {
      "cell_type": "code",
      "metadata": {
        "id": "_MJPYFnEwNdT",
        "colab_type": "code",
        "colab": {
          "base_uri": "https://localhost:8080/",
          "height": 54
        },
        "outputId": "0d283262-715c-4990-8aee-d5beb659482d"
      },
      "source": [
        "# Method 5 - isnumeric()\n",
        "isNumber = my_template.isnumeric()\n",
        "print( isNumber )\n",
        "\n",
        "temp_string = '2412'\n",
        "isNo = temp_string.isnumeric()\n",
        "print( isNo )"
      ],
      "execution_count": 78,
      "outputs": [
        {
          "output_type": "stream",
          "text": [
            "False\n",
            "True\n"
          ],
          "name": "stdout"
        }
      ]
    }
  ]
}