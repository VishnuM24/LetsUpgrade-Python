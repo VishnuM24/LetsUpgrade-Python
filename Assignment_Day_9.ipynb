{
  "nbformat": 4,
  "nbformat_minor": 0,
  "metadata": {
    "colab": {
      "name": "Assignment - Day 9.ipynb",
      "provenance": [],
      "toc_visible": true,
      "authorship_tag": "ABX9TyMvykdwVdFkmnHGbtrK3AM8",
      "include_colab_link": true
    },
    "kernelspec": {
      "name": "python3",
      "display_name": "Python 3"
    }
  },
  "cells": [
    {
      "cell_type": "markdown",
      "metadata": {
        "id": "view-in-github",
        "colab_type": "text"
      },
      "source": [
        "<a href=\"https://colab.research.google.com/github/VishnuM24/LetsUpgrade-Python/blob/master/Assignment_Day_9.ipynb\" target=\"_parent\"><img src=\"https://colab.research.google.com/assets/colab-badge.svg\" alt=\"Open In Colab\"/></a>"
      ]
    },
    {
      "cell_type": "markdown",
      "metadata": {
        "id": "nujCMspY0304",
        "colab_type": "text"
      },
      "source": [
        "# - DAY 9 -"
      ]
    },
    {
      "cell_type": "markdown",
      "metadata": {
        "id": "CTIyZ5VK0520",
        "colab_type": "text"
      },
      "source": [
        "## **ASSIGNMENT 1**\n",
        "\n",
        "\n",
        "---\n",
        "\n",
        "Develop a Python function for finding the given number is Prime or not. \n",
        "\n",
        "Also do Unit Testing on it using PyLint and Unittest Library\n"
      ]
    },
    {
      "cell_type": "markdown",
      "metadata": {
        "id": "k4LRiJ7HN3V_",
        "colab_type": "text"
      },
      "source": [
        "### Using PyLint"
      ]
    },
    {
      "cell_type": "code",
      "metadata": {
        "id": "iZXWMqIqGksl",
        "colab_type": "code",
        "colab": {
          "base_uri": "https://localhost:8080/",
          "height": 441
        },
        "outputId": "9490840b-9107-4f25-aba8-fdd667038f8c"
      },
      "source": [
        "! pip install pylint"
      ],
      "execution_count": 3,
      "outputs": [
        {
          "output_type": "stream",
          "text": [
            "Collecting pylint\n",
            "\u001b[?25l  Downloading https://files.pythonhosted.org/packages/fb/13/519c1264a134beab2be4bac8dd3e64948980a5ca7833b31cf0255b21f20a/pylint-2.6.0-py3-none-any.whl (325kB)\n",
            "\u001b[K     |████████████████████████████████| 327kB 2.7MB/s \n",
            "\u001b[?25hRequirement already satisfied: toml>=0.7.1 in /usr/local/lib/python3.6/dist-packages (from pylint) (0.10.1)\n",
            "Collecting mccabe<0.7,>=0.6\n",
            "  Downloading https://files.pythonhosted.org/packages/87/89/479dc97e18549e21354893e4ee4ef36db1d237534982482c3681ee6e7b57/mccabe-0.6.1-py2.py3-none-any.whl\n",
            "Collecting isort<6,>=4.2.5\n",
            "\u001b[?25l  Downloading https://files.pythonhosted.org/packages/d1/25/7ed95ccb07d3ce52598f5a57d002da6a18074ea8749991b10936cc20e539/isort-5.5.2-py3-none-any.whl (95kB)\n",
            "\u001b[K     |████████████████████████████████| 102kB 6.1MB/s \n",
            "\u001b[?25hCollecting astroid<=2.5,>=2.4.0\n",
            "\u001b[?25l  Downloading https://files.pythonhosted.org/packages/24/a8/5133f51967fb21e46ee50831c3f5dda49e976b7f915408d670b1603d41d6/astroid-2.4.2-py3-none-any.whl (213kB)\n",
            "\u001b[K     |████████████████████████████████| 215kB 7.2MB/s \n",
            "\u001b[?25hRequirement already satisfied: wrapt~=1.11 in /usr/local/lib/python3.6/dist-packages (from astroid<=2.5,>=2.4.0->pylint) (1.12.1)\n",
            "Collecting typed-ast<1.5,>=1.4.0; implementation_name == \"cpython\" and python_version < \"3.8\"\n",
            "\u001b[?25l  Downloading https://files.pythonhosted.org/packages/90/ed/5459080d95eb87a02fe860d447197be63b6e2b5e9ff73c2b0a85622994f4/typed_ast-1.4.1-cp36-cp36m-manylinux1_x86_64.whl (737kB)\n",
            "\u001b[K     |████████████████████████████████| 747kB 8.7MB/s \n",
            "\u001b[?25hCollecting lazy-object-proxy==1.4.*\n",
            "\u001b[?25l  Downloading https://files.pythonhosted.org/packages/0b/dd/b1e3407e9e6913cf178e506cd0dee818e58694d9a5cd1984e3f6a8b9a10f/lazy_object_proxy-1.4.3-cp36-cp36m-manylinux1_x86_64.whl (55kB)\n",
            "\u001b[K     |████████████████████████████████| 61kB 6.8MB/s \n",
            "\u001b[?25hRequirement already satisfied: six~=1.12 in /usr/local/lib/python3.6/dist-packages (from astroid<=2.5,>=2.4.0->pylint) (1.15.0)\n",
            "Installing collected packages: mccabe, isort, typed-ast, lazy-object-proxy, astroid, pylint\n",
            "Successfully installed astroid-2.4.2 isort-5.5.2 lazy-object-proxy-1.4.3 mccabe-0.6.1 pylint-2.6.0 typed-ast-1.4.1\n"
          ],
          "name": "stdout"
        }
      ]
    },
    {
      "cell_type": "code",
      "metadata": {
        "id": "jO5Frqvh0Cwy",
        "colab_type": "code",
        "colab": {
          "base_uri": "https://localhost:8080/",
          "height": 35
        },
        "outputId": "3fd10b83-d6d8-48a4-e959-d8300bebac49"
      },
      "source": [
        "%%writefile prime_file.py\n",
        "'''\n",
        "This file contains the definition of function to check if given number is prime or not.\n",
        "The sample code is also available\n",
        "'''\n",
        "VAL = 23\n",
        "\n",
        "def prime_number( num ):\n",
        "    '''\n",
        "    Function to print if the value in argument is prime or not\n",
        "    '''\n",
        "    for loop_value in range( 2, num ):\n",
        "        if num % loop_value == 0 :\n",
        "            break\n",
        "    if num == loop_value+1:\n",
        "        print(num, 'is a Prime number')\n",
        "        return\n",
        "    print(num, 'is NOT a Prime number')\n",
        "\n",
        "prime_number( VAL )\n",
        "\n"
      ],
      "execution_count": 29,
      "outputs": [
        {
          "output_type": "stream",
          "text": [
            "Writing prime_file.py\n"
          ],
          "name": "stdout"
        }
      ]
    },
    {
      "cell_type": "code",
      "metadata": {
        "id": "G5kkmVB505Rn",
        "colab_type": "code",
        "colab": {
          "base_uri": "https://localhost:8080/",
          "height": 90
        },
        "outputId": "a48d9b98-6aaf-49fa-dad0-71909011eb30"
      },
      "source": [
        "! pylint 'prime_file.py'"
      ],
      "execution_count": 30,
      "outputs": [
        {
          "output_type": "stream",
          "text": [
            "\n",
            "------------------------------------\n",
            "Your code has been rated at 10.00/10\n",
            "\n"
          ],
          "name": "stdout"
        }
      ]
    },
    {
      "cell_type": "markdown",
      "metadata": {
        "id": "iwf73NtxOC9I",
        "colab_type": "text"
      },
      "source": [
        "### Using Unittest"
      ]
    },
    {
      "cell_type": "code",
      "metadata": {
        "id": "-86KZ8OZOQyK",
        "colab_type": "code",
        "colab": {
          "base_uri": "https://localhost:8080/",
          "height": 35
        },
        "outputId": "fb371392-b9c6-45df-f791-1d1af3fd4900"
      },
      "source": [
        "%%writefile primeNumModule.py\n",
        "'''\n",
        "This file contains the definition of function to check if given number is prime or not.\n",
        "The sample code is also available\n",
        "'''\n",
        "\n",
        "def prime_number( num ):\n",
        "  #print('Check number:', num)\n",
        "  for loop_value in range( 2, num ):\n",
        "    if num % loop_value == 0 :\n",
        "      #print(num, '%', loop_value)\n",
        "      break\n",
        "  if num == loop_value+1:\n",
        "    return str(num) + 'is a Prime number'\n",
        "  else:\n",
        "    return str(num) + 'is NOT a Prime number'"
      ],
      "execution_count": 83,
      "outputs": [
        {
          "output_type": "stream",
          "text": [
            "Writing primeNumModule.py\n"
          ],
          "name": "stdout"
        }
      ]
    },
    {
      "cell_type": "code",
      "metadata": {
        "id": "J8bHk1VwNTo2",
        "colab_type": "code",
        "colab": {
          "base_uri": "https://localhost:8080/",
          "height": 54
        },
        "outputId": "8c517bad-c745-4e15-d933-602978d89975"
      },
      "source": [
        "import primeNumModule\n",
        "\n",
        "print( primeNumModule.prime_number( 9 ) )\n",
        "print( primeNumModule.prime_number( 17 ) )"
      ],
      "execution_count": 85,
      "outputs": [
        {
          "output_type": "stream",
          "text": [
            "9is NOT a Prime number\n",
            "17is a Prime number\n"
          ],
          "name": "stdout"
        }
      ]
    },
    {
      "cell_type": "code",
      "metadata": {
        "id": "D_GGER-kMSSf",
        "colab_type": "code",
        "colab": {
          "base_uri": "https://localhost:8080/",
          "height": 35
        },
        "outputId": "469aa80d-46f5-41ee-a099-72e4f1c5f9ca"
      },
      "source": [
        "%%writefile TestNum.py\n",
        "\n",
        "import unittest\n",
        "import primeNumModule\n",
        "\n",
        "class testPrime( unittest.TestCase ):\n",
        "  def testNum( self ):\n",
        "    n = 19\n",
        "    res = primeNumModule.prime_number( n )\n",
        "    self.assertEquals( res, str(n)+'is a Prime number' )\n",
        "\n",
        "if __name__ == '__main__' :\n",
        "  unittest.main()"
      ],
      "execution_count": 86,
      "outputs": [
        {
          "output_type": "stream",
          "text": [
            "Writing TestNum.py\n"
          ],
          "name": "stdout"
        }
      ]
    },
    {
      "cell_type": "code",
      "metadata": {
        "id": "avGh3Dbxniz7",
        "colab_type": "code",
        "colab": {
          "base_uri": "https://localhost:8080/",
          "height": 109
        },
        "outputId": "b7bdd765-2076-41a6-8d8a-118f9ffd4b28"
      },
      "source": [
        "! python TestNum.py"
      ],
      "execution_count": 87,
      "outputs": [
        {
          "output_type": "stream",
          "text": [
            ".\n",
            "----------------------------------------------------------------------\n",
            "Ran 1 test in 0.000s\n",
            "\n",
            "OK\n"
          ],
          "name": "stdout"
        }
      ]
    },
    {
      "cell_type": "markdown",
      "metadata": {
        "id": "p024uwYV12iB",
        "colab_type": "text"
      },
      "source": [
        "## **ASSIGNMENT 2**\n",
        "\n",
        "\n",
        "---\n",
        "\n",
        "Develop a small generator program for returning Armstrong Numbers in between 1-1000 in a generator object."
      ]
    },
    {
      "cell_type": "code",
      "metadata": {
        "id": "nXNLybjy2B2v",
        "colab_type": "code",
        "colab": {}
      },
      "source": [
        "def armStrong( lmt ):\n",
        "  for armNum in lmt :\n",
        "    raisePower = len( str( armNum ) )\n",
        "    sumNum = 0\n",
        "    tempNum = armNum\n",
        "    \n",
        "    while( tempNum >0 ):\n",
        "      sumNum += ( tempNum%10 ) ** raisePower\n",
        "      tempNum //= 10\n",
        "\n",
        "    if( armNum == sumNum ): \n",
        "      yield armNum"
      ],
      "execution_count": 88,
      "outputs": []
    },
    {
      "cell_type": "code",
      "metadata": {
        "id": "hFuNfUXNr1VW",
        "colab_type": "code",
        "colab": {
          "base_uri": "https://localhost:8080/",
          "height": 35
        },
        "outputId": "9c431b4c-ac7b-4ea0-f4d8-b83d4af66c2a"
      },
      "source": [
        "givenList = range( 1 , 1000 )\n",
        "print( list( armStrong( givenList ) ) )"
      ],
      "execution_count": 89,
      "outputs": [
        {
          "output_type": "stream",
          "text": [
            "[1, 2, 3, 4, 5, 6, 7, 8, 9, 153, 370, 371, 407]\n"
          ],
          "name": "stdout"
        }
      ]
    },
    {
      "cell_type": "code",
      "metadata": {
        "id": "edVA4Yvhsbdd",
        "colab_type": "code",
        "colab": {}
      },
      "source": [
        ""
      ],
      "execution_count": null,
      "outputs": []
    }
  ]
}