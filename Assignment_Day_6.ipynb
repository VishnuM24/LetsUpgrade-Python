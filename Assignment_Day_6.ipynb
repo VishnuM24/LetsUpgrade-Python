{
  "nbformat": 4,
  "nbformat_minor": 0,
  "metadata": {
    "colab": {
      "name": "Assignment - Day 6.ipynb",
      "provenance": [],
      "authorship_tag": "ABX9TyPeVYw75C/km83QV7A3JVGC",
      "include_colab_link": true
    },
    "kernelspec": {
      "name": "python3",
      "display_name": "Python 3"
    }
  },
  "cells": [
    {
      "cell_type": "markdown",
      "metadata": {
        "id": "view-in-github",
        "colab_type": "text"
      },
      "source": [
        "<a href=\"https://colab.research.google.com/github/VishnuM24/LetsUpgrade-Python/blob/master/Assignment_Day_6.ipynb\" target=\"_parent\"><img src=\"https://colab.research.google.com/assets/colab-badge.svg\" alt=\"Open In Colab\"/></a>"
      ]
    },
    {
      "cell_type": "markdown",
      "metadata": {
        "id": "7hkUaL6Fxh5W",
        "colab_type": "text"
      },
      "source": [
        "# - DAY 6 -"
      ]
    },
    {
      "cell_type": "markdown",
      "metadata": {
        "id": "6jHR6L5yxj68",
        "colab_type": "text"
      },
      "source": [
        "## **ASSIGNMENT 1**\n",
        "\n",
        "\n",
        "---\n",
        "\n",
        "\n",
        "Create a bank account class that has two attributes\n",
        "* OwnerName\n",
        "* Balance\n",
        "\n",
        "and two methods\n",
        "* deposit\n",
        "* withDraw\n",
        "\n",
        "As an added requirement, withdrawals may not exceed the available balance.\n",
        "\n",
        "Instantiate your class, make several deposits and withdrawals, and test to make sure the account can't be overdrawn.[link text](https://)"
      ]
    },
    {
      "cell_type": "code",
      "metadata": {
        "id": "arc5WwwmxcvX",
        "colab_type": "code",
        "colab": {}
      },
      "source": [
        "class bankAccount():\n",
        "  def __init__( self, ownerName, balance ):\n",
        "    self.ownerName = ownerName\n",
        "    self.balance = balance\n",
        "\n",
        "  def getBalance(self):\n",
        "    print(f\"Your balance is Rs {self.balance}/- \")\n",
        "\n",
        "  def deposit(self):\n",
        "    amount = int(input(\"Please enter the amount to be deposited: \"))\n",
        "    self.balance += amount\n",
        "    print(f\"Your updated balance is Rs {self.balance}/- \")\n",
        "\n",
        "  def withDraw(self):\n",
        "    amount = int(input(\"Please enter the amount to withdraw: \"))\n",
        "    if ( amount > self.balance ):\n",
        "      print(\"[ERROR] : Transaction Cancelled. LOW BALANCE !\")\n",
        "      return\n",
        "    self.balance -= amount\n",
        "    print(f\"Your updated balance is Rs {self.balance}/- \")"
      ],
      "execution_count": 16,
      "outputs": []
    },
    {
      "cell_type": "code",
      "metadata": {
        "id": "dqZGmBkNxjVb",
        "colab_type": "code",
        "colab": {}
      },
      "source": [
        "vishnu = bankAccount('Vishnu', 12500)"
      ],
      "execution_count": 19,
      "outputs": []
    },
    {
      "cell_type": "code",
      "metadata": {
        "id": "_qQpmPmZ9Xqm",
        "colab_type": "code",
        "colab": {
          "base_uri": "https://localhost:8080/",
          "height": 35
        },
        "outputId": "02366867-117a-432b-997c-2302c7d97996"
      },
      "source": [
        "vishnu.getBalance()"
      ],
      "execution_count": 20,
      "outputs": [
        {
          "output_type": "stream",
          "text": [
            "Your balance is Rs 12500/- \n"
          ],
          "name": "stdout"
        }
      ]
    },
    {
      "cell_type": "code",
      "metadata": {
        "id": "ENFBiwzK7b9N",
        "colab_type": "code",
        "colab": {
          "base_uri": "https://localhost:8080/",
          "height": 54
        },
        "outputId": "d8214c92-f72a-45bb-ce05-1aed299b9e6d"
      },
      "source": [
        "vishnu.deposit()"
      ],
      "execution_count": 21,
      "outputs": [
        {
          "output_type": "stream",
          "text": [
            "Please enter the amount to be deposited: 2500\n",
            "Your updated balance is Rs 15000/- \n"
          ],
          "name": "stdout"
        }
      ]
    },
    {
      "cell_type": "code",
      "metadata": {
        "id": "hnpjn2Rr8hqa",
        "colab_type": "code",
        "colab": {
          "base_uri": "https://localhost:8080/",
          "height": 54
        },
        "outputId": "5f337155-85e3-4dfe-ebbd-d4ad3841e94a"
      },
      "source": [
        "vishnu.withDraw()"
      ],
      "execution_count": 22,
      "outputs": [
        {
          "output_type": "stream",
          "text": [
            "Please enter the amount to withdraw: 5000\n",
            "Your updated balance is Rs 10000/- \n"
          ],
          "name": "stdout"
        }
      ]
    },
    {
      "cell_type": "code",
      "metadata": {
        "id": "TIZDYJPB9sTq",
        "colab_type": "code",
        "colab": {
          "base_uri": "https://localhost:8080/",
          "height": 311
        },
        "outputId": "0ce5f998-936c-4b6e-fbc5-6a3e76949ab4"
      },
      "source": [
        "vishnu.getBalance()\n",
        "vishnu.deposit()\n",
        "vishnu.deposit()\n",
        "vishnu.withDraw()\n",
        "vishnu.withDraw()\n",
        "\n",
        "vishnu.deposit()\n",
        "vishnu.withDraw()\n",
        "vishnu.getBalance()\n",
        "vishnu.withDraw()"
      ],
      "execution_count": 23,
      "outputs": [
        {
          "output_type": "stream",
          "text": [
            "Your balance is Rs 10000/- \n",
            "Please enter the amount to be deposited: 10000\n",
            "Your updated balance is Rs 20000/- \n",
            "Please enter the amount to be deposited: 2500\n",
            "Your updated balance is Rs 22500/- \n",
            "Please enter the amount to withdraw: 12000\n",
            "Your updated balance is Rs 10500/- \n",
            "Please enter the amount to withdraw: 2000\n",
            "Your updated balance is Rs 8500/- \n",
            "Please enter the amount to be deposited: 1500\n",
            "Your updated balance is Rs 10000/- \n",
            "Please enter the amount to withdraw: 12000\n",
            "[ERROR] : Transaction Cancelled. LOW BALANCE !\n",
            "Your balance is Rs 10000/- \n",
            "Please enter the amount to withdraw: 8000\n",
            "Your updated balance is Rs 2000/- \n"
          ],
          "name": "stdout"
        }
      ]
    },
    {
      "cell_type": "markdown",
      "metadata": {
        "id": "CxBZDGKE28zY",
        "colab_type": "text"
      },
      "source": [
        "## **ASSIGNMENT 2**\n",
        "\n",
        "\n",
        "---\n",
        "\n",
        "\n",
        "Create a cone class that has two attributes:\n",
        "* r = radius\n",
        "* H = height\n",
        "\n",
        "and two methods\n",
        "* Volume = Pi * r^2 * (H/3)\n",
        "* Surface area :\n",
        ">* base: Pi * r^2\n",
        ">* side: Pi * r * sqrt( r^2 + H^2 )\n",
        "\n",
        "Make only one class with functions, as in where required import Math."
      ]
    },
    {
      "cell_type": "code",
      "metadata": {
        "id": "Qmxt507r4Bsf",
        "colab_type": "code",
        "colab": {}
      },
      "source": [
        "import math\n",
        "class cone():\n",
        "  def __init__(self, radius, height):\n",
        "    self.r = radius\n",
        "    self.h = height\n",
        "\n",
        "  def volume(self):\n",
        "    return ( math.pi* (self.r**2)* (self.h/3) )\n",
        "\n",
        "  def baseSA(self):\n",
        "    return ( math.pi* (self.r**2) )\n",
        "\n",
        "  def sideSA(self):\n",
        "    return ( math.pi* self.r* (math.sqrt( (self.r**2) + (self.h**2) ) ) )"
      ],
      "execution_count": 29,
      "outputs": []
    },
    {
      "cell_type": "code",
      "metadata": {
        "id": "bWOuIK2a_odH",
        "colab_type": "code",
        "colab": {
          "base_uri": "https://localhost:8080/",
          "height": 72
        },
        "outputId": "46fc10f5-12da-48a2-d902-092c779eac70"
      },
      "source": [
        "cone1 = cone( 4, 7 )\n",
        "print('Volume is ', cone1.volume() )\n",
        "print('Base Surface Area is ', cone1.baseSA() )\n",
        "print('Side Surface Area is ', cone1.sideSA() )"
      ],
      "execution_count": 33,
      "outputs": [
        {
          "output_type": "stream",
          "text": [
            "Volume is  117.28612573401895\n",
            "Base Surface Area is  50.26548245743669\n",
            "Side Surface Area is  101.31331885360844\n"
          ],
          "name": "stdout"
        }
      ]
    },
    {
      "cell_type": "code",
      "metadata": {
        "id": "-Q7eF7c9-lYv",
        "colab_type": "code",
        "colab": {
          "base_uri": "https://localhost:8080/",
          "height": 72
        },
        "outputId": "603364cc-9abf-4a5a-8e9f-1bba78c6e207"
      },
      "source": [
        "cone2 = cone( 2, 4 )\n",
        "print('Volume is ', cone2.volume() )\n",
        "print('Base Surface Area is ', cone2.baseSA() )\n",
        "print('Side Surface Area is ', cone2.sideSA() )"
      ],
      "execution_count": 34,
      "outputs": [
        {
          "output_type": "stream",
          "text": [
            "Volume is  16.755160819145562\n",
            "Base Surface Area is  12.566370614359172\n",
            "Side Surface Area is  28.099258924162907\n"
          ],
          "name": "stdout"
        }
      ]
    },
    {
      "cell_type": "code",
      "metadata": {
        "id": "NqlGKUVl-lgT",
        "colab_type": "code",
        "colab": {
          "base_uri": "https://localhost:8080/",
          "height": 35
        },
        "outputId": "d58e9db9-3863-40bc-bd50-dfcb82833a17"
      },
      "source": [
        "import math\n",
        "print(math.pi)"
      ],
      "execution_count": 26,
      "outputs": [
        {
          "output_type": "stream",
          "text": [
            "3.141592653589793\n"
          ],
          "name": "stdout"
        }
      ]
    }
  ]
}