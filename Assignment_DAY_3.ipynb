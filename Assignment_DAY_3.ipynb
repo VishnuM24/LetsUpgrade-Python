{
  "nbformat": 4,
  "nbformat_minor": 0,
  "metadata": {
    "colab": {
      "name": "Assignment  - DAY 3.ipynb",
      "provenance": [],
      "toc_visible": true,
      "authorship_tag": "ABX9TyOz6/UC9QtekLFpGuddCh3Y",
      "include_colab_link": true
    },
    "kernelspec": {
      "name": "python3",
      "display_name": "Python 3"
    }
  },
  "cells": [
    {
      "cell_type": "markdown",
      "metadata": {
        "id": "view-in-github",
        "colab_type": "text"
      },
      "source": [
        "<a href=\"https://colab.research.google.com/github/VishnuM24/LetsUpgrade-Python/blob/master/Assignment_DAY_3.ipynb\" target=\"_parent\"><img src=\"https://colab.research.google.com/assets/colab-badge.svg\" alt=\"Open In Colab\"/></a>"
      ]
    },
    {
      "cell_type": "markdown",
      "metadata": {
        "id": "0VYPTTtlAQYO",
        "colab_type": "text"
      },
      "source": [
        "#- DAY 3 -"
      ]
    },
    {
      "cell_type": "markdown",
      "metadata": {
        "id": "rG0zmQIuzeCr",
        "colab_type": "text"
      },
      "source": [
        "## ASSIGNMENT 1 "
      ]
    },
    {
      "cell_type": "markdown",
      "metadata": {
        "id": "ziA2Bo67xxCG",
        "colab_type": "text"
      },
      "source": [
        "**QUESTION:**\n",
        "\n",
        "You all are pilots, you have to land a plane, the altitude required for landing a plane is 1000ft, if it is less than that tell pilot to land the plane, or if it is more than that but less than 5000ft, ask the pilot to \"come down to 1000ft\", else if it is more than 5000ft, ask the pilot to \"Go around & try later\"."
      ]
    },
    {
      "cell_type": "code",
      "metadata": {
        "id": "FljY335sxrkI",
        "colab_type": "code",
        "colab": {
          "base_uri": "https://localhost:8080/",
          "height": 54
        },
        "outputId": "4befb9fb-0dcb-49fb-a9eb-ced483775726"
      },
      "source": [
        "alt = int(input(\"Please enter the current altitude of the plane (in ft): \"))\n",
        "\n",
        "if ( alt <= 1000 ) :\n",
        "  print(\"You may land the plane\")\n",
        "elif ( alt <= 5000 ) :\n",
        "  print(\"Please come down to 1000ft\")\n",
        "else :\n",
        "  print(\"Please Go Around & Try Later !\")"
      ],
      "execution_count": null,
      "outputs": [
        {
          "output_type": "stream",
          "text": [
            "Please enter the current altitude of the plane (in ft): 6500\n",
            "Please Go Around & Try Later !\n"
          ],
          "name": "stdout"
        }
      ]
    },
    {
      "cell_type": "markdown",
      "metadata": {
        "id": "0Fuj_ZT2AWY8",
        "colab_type": "text"
      },
      "source": [
        "## ASSIGNMENT 2"
      ]
    },
    {
      "cell_type": "markdown",
      "metadata": {
        "id": "KRiWQnkxAZOl",
        "colab_type": "text"
      },
      "source": [
        "**QUESTION:**\n",
        "\n",
        "Print all Prime numbers between 1 - 200 using FOR LOOP and RANGE functions."
      ]
    },
    {
      "cell_type": "code",
      "metadata": {
        "id": "1g6pm-arAv1H",
        "colab_type": "code",
        "colab": {
          "base_uri": "https://localhost:8080/",
          "height": 862
        },
        "outputId": "16959cf0-5aaa-4c5b-a470-247817f3afe8"
      },
      "source": [
        "for num in range(1,200):\n",
        "  \n",
        "  for div in range(2, num):\n",
        "    if ( num % div == 0 ):\n",
        "      break\n",
        "  else:   \n",
        "    if ( num-1 == div or num == 2 ):\n",
        "        print(num)\n",
        "    \n"
      ],
      "execution_count": null,
      "outputs": [
        {
          "output_type": "stream",
          "text": [
            "2\n",
            "3\n",
            "5\n",
            "7\n",
            "11\n",
            "13\n",
            "17\n",
            "19\n",
            "23\n",
            "29\n",
            "31\n",
            "37\n",
            "41\n",
            "43\n",
            "47\n",
            "53\n",
            "59\n",
            "61\n",
            "67\n",
            "71\n",
            "73\n",
            "79\n",
            "83\n",
            "89\n",
            "97\n",
            "101\n",
            "103\n",
            "107\n",
            "109\n",
            "113\n",
            "127\n",
            "131\n",
            "137\n",
            "139\n",
            "149\n",
            "151\n",
            "157\n",
            "163\n",
            "167\n",
            "173\n",
            "179\n",
            "181\n",
            "191\n",
            "193\n",
            "197\n",
            "199\n"
          ],
          "name": "stdout"
        }
      ]
    },
    {
      "cell_type": "code",
      "metadata": {
        "id": "3_UmBxPGMfw6",
        "colab_type": "code",
        "colab": {}
      },
      "source": [
        ""
      ],
      "execution_count": null,
      "outputs": []
    }
  ]
}