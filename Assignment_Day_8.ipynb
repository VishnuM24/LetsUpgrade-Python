{
  "nbformat": 4,
  "nbformat_minor": 0,
  "metadata": {
    "colab": {
      "name": "Assignment - Day 8.ipynb",
      "provenance": [],
      "toc_visible": true,
      "authorship_tag": "ABX9TyN3bf/bI6AJoMp1BEGD07c7",
      "include_colab_link": true
    },
    "kernelspec": {
      "name": "python3",
      "display_name": "Python 3"
    }
  },
  "cells": [
    {
      "cell_type": "markdown",
      "metadata": {
        "id": "view-in-github",
        "colab_type": "text"
      },
      "source": [
        "<a href=\"https://colab.research.google.com/github/VishnuM24/LetsUpgrade-Python/blob/master/Assignment_Day_8.ipynb\" target=\"_parent\"><img src=\"https://colab.research.google.com/assets/colab-badge.svg\" alt=\"Open In Colab\"/></a>"
      ]
    },
    {
      "cell_type": "markdown",
      "metadata": {
        "id": "1vRg2oovnTLf",
        "colab_type": "text"
      },
      "source": [
        "# - DAY 8 -"
      ]
    },
    {
      "cell_type": "markdown",
      "metadata": {
        "id": "MdfsW8RWnVX1",
        "colab_type": "text"
      },
      "source": [
        "## **ASSIGNMENT 1**\n",
        "\n",
        "\n",
        "---\n",
        "\n",
        "\n",
        "Write a decorator function for taking inputs for any defined function."
      ]
    },
    {
      "cell_type": "code",
      "metadata": {
        "id": "__-5Uy40nU3L",
        "colab_type": "code",
        "colab": {}
      },
      "source": [
        "def getLimit( func ):\n",
        "  def wrapFunction():\n",
        "    num = int( input( 'Please enter the limit: ' ) )\n",
        "    func( num )\n",
        "  return wrapFunction"
      ],
      "execution_count": 5,
      "outputs": []
    },
    {
      "cell_type": "code",
      "metadata": {
        "id": "igwraq-9C6U9",
        "colab_type": "code",
        "colab": {}
      },
      "source": [
        "@getLimit\n",
        "def febnocci(  lmt ):\n",
        "  print( 'FEBNOCCI SERIES: ' )\n",
        "  febString = '0  1  ' \n",
        "  num1 = 0\n",
        "  num2 = 1\n",
        "  \n",
        "  while ( num1+num2 <= lmt ):\n",
        "    num3 =  num1 + num2\n",
        "    febString += str( num3 ) + '  ' \n",
        "    num1 = num2\n",
        "    num2 = num3\n",
        "    \n",
        "  print( febString )\n",
        "   "
      ],
      "execution_count": 6,
      "outputs": []
    },
    {
      "cell_type": "code",
      "metadata": {
        "id": "HTgGt-iGlxId",
        "colab_type": "code",
        "colab": {
          "base_uri": "https://localhost:8080/",
          "height": 72
        },
        "outputId": "8c82adbe-a15d-4480-e942-49cf0bd55b01"
      },
      "source": [
        "febnocci()"
      ],
      "execution_count": 7,
      "outputs": [
        {
          "output_type": "stream",
          "text": [
            "Please enter the limit: 10\n",
            "FEBNOCCI SERIES: \n",
            "0  1  1  2  3  5  8  \n"
          ],
          "name": "stdout"
        }
      ]
    },
    {
      "cell_type": "code",
      "metadata": {
        "id": "KzNwY8l8nT7A",
        "colab_type": "code",
        "colab": {
          "base_uri": "https://localhost:8080/",
          "height": 72
        },
        "outputId": "191d55e5-a085-48b3-9d3b-460084a01a2d"
      },
      "source": [
        "febnocci()"
      ],
      "execution_count": 8,
      "outputs": [
        {
          "output_type": "stream",
          "text": [
            "Please enter the limit: 5\n",
            "FEBNOCCI SERIES: \n",
            "0  1  1  2  3  5  \n"
          ],
          "name": "stdout"
        }
      ]
    },
    {
      "cell_type": "markdown",
      "metadata": {
        "id": "hUy9EN_7q6c3",
        "colab_type": "text"
      },
      "source": [
        "## **ASSIGNMENT 2**\n",
        "\n",
        "\n",
        "---\n",
        "\n",
        "\n",
        "Develop a Python program to open a file in read-only mode and try writing something to it. \n",
        "\n",
        "Handle the subsequent errors using Exception Handling."
      ]
    },
    {
      "cell_type": "code",
      "metadata": {
        "id": "NNGELd1lrW3j",
        "colab_type": "code",
        "colab": {
          "base_uri": "https://localhost:8080/",
          "height": 209
        },
        "outputId": "9b0db70e-bb82-40f1-d561-5c85422b1ca7"
      },
      "source": [
        "file = open( 'myFile.txt', 'r' )\n",
        "file.write('Check123')\n",
        "file.close()"
      ],
      "execution_count": 9,
      "outputs": [
        {
          "output_type": "error",
          "ename": "UnsupportedOperation",
          "evalue": "ignored",
          "traceback": [
            "\u001b[0;31m---------------------------------------------------------------------------\u001b[0m",
            "\u001b[0;31mUnsupportedOperation\u001b[0m                      Traceback (most recent call last)",
            "\u001b[0;32m<ipython-input-9-12e199069341>\u001b[0m in \u001b[0;36m<module>\u001b[0;34m()\u001b[0m\n\u001b[1;32m      1\u001b[0m \u001b[0mfile\u001b[0m \u001b[0;34m=\u001b[0m \u001b[0mopen\u001b[0m\u001b[0;34m(\u001b[0m \u001b[0;34m'myFile.txt'\u001b[0m\u001b[0;34m,\u001b[0m \u001b[0;34m'r'\u001b[0m \u001b[0;34m)\u001b[0m\u001b[0;34m\u001b[0m\u001b[0;34m\u001b[0m\u001b[0m\n\u001b[0;32m----> 2\u001b[0;31m \u001b[0mfile\u001b[0m\u001b[0;34m.\u001b[0m\u001b[0mwrite\u001b[0m\u001b[0;34m(\u001b[0m\u001b[0;34m'Check123'\u001b[0m\u001b[0;34m)\u001b[0m\u001b[0;34m\u001b[0m\u001b[0;34m\u001b[0m\u001b[0m\n\u001b[0m\u001b[1;32m      3\u001b[0m \u001b[0mfile\u001b[0m\u001b[0;34m.\u001b[0m\u001b[0mclose\u001b[0m\u001b[0;34m(\u001b[0m\u001b[0;34m)\u001b[0m\u001b[0;34m\u001b[0m\u001b[0;34m\u001b[0m\u001b[0m\n",
            "\u001b[0;31mUnsupportedOperation\u001b[0m: not writable"
          ]
        }
      ]
    },
    {
      "cell_type": "code",
      "metadata": {
        "id": "FTb9auRHrbBs",
        "colab_type": "code",
        "colab": {
          "base_uri": "https://localhost:8080/",
          "height": 54
        },
        "outputId": "d0d31d03-7f09-4e08-f378-1208c7d3bfd5"
      },
      "source": [
        "try:\n",
        "  print('Opening File...')\n",
        "  file = open( 'myFile.txt', 'r' )\n",
        "  file.write('Check123')\n",
        "  file.close()\n",
        "  print('File was modified')\n",
        "  \n",
        "except Exception as e:\n",
        "  print( '[ERROR] : ' , e )"
      ],
      "execution_count": 12,
      "outputs": [
        {
          "output_type": "stream",
          "text": [
            "Opening File...\n",
            "[ERROR] :  not writable\n"
          ],
          "name": "stdout"
        }
      ]
    },
    {
      "cell_type": "code",
      "metadata": {
        "id": "nrSxGTrer7HB",
        "colab_type": "code",
        "colab": {}
      },
      "source": [
        ""
      ],
      "execution_count": null,
      "outputs": []
    }
  ]
}