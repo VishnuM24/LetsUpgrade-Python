{
  "nbformat": 4,
  "nbformat_minor": 0,
  "metadata": {
    "colab": {
      "name": "Assignment - Day 4.ipynb",
      "provenance": [],
      "authorship_tag": "ABX9TyMzjmve7ksGEHzpCJrezSaX",
      "include_colab_link": true
    },
    "kernelspec": {
      "name": "python3",
      "display_name": "Python 3"
    }
  },
  "cells": [
    {
      "cell_type": "markdown",
      "metadata": {
        "id": "view-in-github",
        "colab_type": "text"
      },
      "source": [
        "<a href=\"https://colab.research.google.com/github/VishnuM24/LetsUpgrade-Python/blob/master/Assignment_Day_4.ipynb\" target=\"_parent\"><img src=\"https://colab.research.google.com/assets/colab-badge.svg\" alt=\"Open In Colab\"/></a>"
      ]
    },
    {
      "cell_type": "markdown",
      "metadata": {
        "id": "_FxTrICadJ6g",
        "colab_type": "text"
      },
      "source": [
        "# - DAY 4 -"
      ]
    },
    {
      "cell_type": "markdown",
      "metadata": {
        "id": "ac6mhYeadaqm",
        "colab_type": "text"
      },
      "source": [
        "## **ASSIGNMENT QUESTION :**\n",
        "\n",
        "Print the first *Armstrong Number* in the range of *1042000* to *702648265* and exit the loop as soon as it is encountered. ( Use WHILE loop )"
      ]
    },
    {
      "cell_type": "code",
      "metadata": {
        "id": "vXVM-PXWdAxL",
        "colab_type": "code",
        "colab": {
          "base_uri": "https://localhost:8080/",
          "height": 35
        },
        "outputId": "0298de31-092b-49e3-f8c9-acc1f9fdc3f3"
      },
      "source": [
        "numbers = range(1042000, 702648265)\n",
        "#print( numbers[-1] )\n",
        "\n",
        "num = numbers[0]\n",
        "while( num <=  numbers[-1] ):\n",
        "\n",
        "  temp = num\n",
        "  power = 0\n",
        "  while( temp >0 ): # Check length of the number for power of digits\n",
        "    power += 1\n",
        "    temp //= 10\n",
        "\n",
        "  temp = num\n",
        "  sum = 0\n",
        "  while( temp >0 ):\n",
        "    sum += (temp%10) ** power  # Take last digit, power it and add to the sum\n",
        "    temp //= 10\n",
        "\n",
        "  if( num == sum ): # If sum equals the number then its Armstrong\n",
        "    print(\"The first Armstrong Number is \", num)\n",
        "    break\n",
        "  num += 1\n",
        "\n"
      ],
      "execution_count": 9,
      "outputs": [
        {
          "output_type": "stream",
          "text": [
            "The first Armstrong Number is  1741725\n"
          ],
          "name": "stdout"
        }
      ]
    },
    {
      "cell_type": "code",
      "metadata": {
        "id": "iuT7dX_clt7j",
        "colab_type": "code",
        "colab": {
          "base_uri": "https://localhost:8080/",
          "height": 35
        },
        "outputId": "7c53fd90-adbd-49ac-d248-71658f07c019"
      },
      "source": [
        "for armNum in range(1042000, 702648265):\n",
        "  raisePower = len( str( armNum ) )\n",
        "  sumNum = 0\n",
        "  tempNum = armNum\n",
        "  \n",
        "  while( tempNum >0 ):\n",
        "    sumNum += ( tempNum%10 ) ** raisePower\n",
        "    tempNum //= 10\n",
        "\n",
        "  if( armNum == sumNum ): \n",
        "    print(\"The first Armstrong Number is \", armNum)\n",
        "    break"
      ],
      "execution_count": 11,
      "outputs": [
        {
          "output_type": "stream",
          "text": [
            "The first Armstrong Number is  1741725\n"
          ],
          "name": "stdout"
        }
      ]
    }
  ]
}